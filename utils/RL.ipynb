{
  "cells": [
    {
      "cell_type": "markdown",
      "metadata": {
        "id": "view-in-github",
        "colab_type": "text"
      },
      "source": [
        "<a href=\"https://colab.research.google.com/github/Francesco0101/RL_project/blob/main/utils/RL.ipynb\" target=\"_parent\"><img src=\"https://colab.research.google.com/assets/colab-badge.svg\" alt=\"Open In Colab\"/></a>"
      ]
    },
    {
      "cell_type": "code",
      "execution_count": 1,
      "metadata": {
        "colab": {
          "base_uri": "https://localhost:8080/"
        },
        "id": "ovhQp03Aw8zv",
        "outputId": "d2ccff23-d4c4-4958-866d-7ff2367a6924"
      },
      "outputs": [
        {
          "output_type": "stream",
          "name": "stdout",
          "text": [
            "Cloning into 'RL_project'...\n",
            "remote: Enumerating objects: 233, done.\u001b[K\n",
            "remote: Counting objects: 100% (233/233), done.\u001b[K\n",
            "remote: Compressing objects: 100% (167/167), done.\u001b[K\n",
            "remote: Total 233 (delta 136), reused 141 (delta 57), pack-reused 0 (from 0)\u001b[K\n",
            "Receiving objects: 100% (233/233), 12.23 MiB | 28.80 MiB/s, done.\n",
            "Resolving deltas: 100% (136/136), done.\n",
            "/content/RL_project\n"
          ]
        }
      ],
      "source": [
        "# prompt: do a gitclone from https://github.com/Francesco0101/RL_project\n",
        "\n",
        "!git clone https://github.com/Francesco0101/RL_project.git\n",
        "%cd RL_project\n",
        "\n"
      ]
    },
    {
      "cell_type": "code",
      "execution_count": 2,
      "metadata": {
        "colab": {
          "base_uri": "https://localhost:8080/"
        },
        "id": "XeESjGaj24OI",
        "outputId": "5dab9830-69c5-46cf-88c7-886009c00500"
      },
      "outputs": [
        {
          "output_type": "stream",
          "name": "stdout",
          "text": [
            "Mounted at /content/drive\n"
          ]
        }
      ],
      "source": [
        "# prompt: connect to my drive with mount\n",
        "\n",
        "from google.colab import drive\n",
        "drive.mount('/content/drive')\n"
      ]
    },
    {
      "cell_type": "code",
      "execution_count": 4,
      "metadata": {
        "colab": {
          "base_uri": "https://localhost:8080/",
          "height": 1000
        },
        "id": "obO7gCBoy0bI",
        "outputId": "3646cdde-6fef-40bb-85fe-f56da51c142e"
      },
      "outputs": [
        {
          "output_type": "stream",
          "name": "stdout",
          "text": [
            "Requirement already satisfied: cloudpickle==3.1.0 in /usr/local/lib/python3.10/dist-packages (3.1.0)\n",
            "Collecting colorama==0.4.6\n",
            "  Using cached colorama-0.4.6-py2.py3-none-any.whl.metadata (17 kB)\n",
            "Requirement already satisfied: contourpy==1.3.1 in /usr/local/lib/python3.10/dist-packages (1.3.1)\n",
            "Requirement already satisfied: cycler==0.12.1 in /usr/local/lib/python3.10/dist-packages (0.12.1)\n",
            "Requirement already satisfied: filelock==3.16.1 in /usr/local/lib/python3.10/dist-packages (3.16.1)\n",
            "Requirement already satisfied: fonttools==4.55.3 in /usr/local/lib/python3.10/dist-packages (4.55.3)\n",
            "Requirement already satisfied: fsspec==2024.10.0 in /usr/local/lib/python3.10/dist-packages (2024.10.0)\n",
            "Collecting gym==0.26.2\n",
            "  Using cached gym-0.26.2.tar.gz (721 kB)\n",
            "  Installing build dependencies ... \u001b[?25l\u001b[?25hdone\n",
            "  Getting requirements to build wheel ... \u001b[?25l\u001b[?25hdone\n",
            "  Preparing metadata (pyproject.toml) ... \u001b[?25l\u001b[?25hdone\n",
            "Requirement already satisfied: gym-notices==0.0.8 in /usr/local/lib/python3.10/dist-packages (0.0.8)\n",
            "Collecting gym-super-mario-bros==7.4.0\n",
            "  Downloading gym_super_mario_bros-7.4.0-py3-none-any.whl.metadata (10 kB)\n",
            "Requirement already satisfied: Jinja2==3.1.4 in /usr/local/lib/python3.10/dist-packages (3.1.4)\n",
            "Requirement already satisfied: kiwisolver==1.4.7 in /usr/local/lib/python3.10/dist-packages (1.4.7)\n",
            "Requirement already satisfied: MarkupSafe==3.0.2 in /usr/local/lib/python3.10/dist-packages (3.0.2)\n",
            "Collecting matplotlib==3.10.0\n",
            "  Downloading matplotlib-3.10.0-cp310-cp310-manylinux_2_17_x86_64.manylinux2014_x86_64.whl.metadata (11 kB)\n",
            "Requirement already satisfied: mpmath==1.3.0 in /usr/local/lib/python3.10/dist-packages (1.3.0)\n",
            "Collecting nes_py==8.2.1\n",
            "  Downloading nes_py-8.2.1.tar.gz (77 kB)\n",
            "\u001b[2K     \u001b[90m━━━━━━━━━━━━━━━━━━━━━━━━━━━━━━━━━━━━━━━━\u001b[0m \u001b[32m77.7/77.7 kB\u001b[0m \u001b[31m2.1 MB/s\u001b[0m eta \u001b[36m0:00:00\u001b[0m\n",
            "\u001b[?25h  Preparing metadata (setup.py) ... \u001b[?25l\u001b[?25hdone\n",
            "Requirement already satisfied: networkx==3.4.2 in /usr/local/lib/python3.10/dist-packages (3.4.2)\n",
            "Requirement already satisfied: numpy==1.26.4 in /usr/local/lib/python3.10/dist-packages (1.26.4)\n",
            "Requirement already satisfied: opencv-python==4.10.0.84 in /usr/local/lib/python3.10/dist-packages (4.10.0.84)\n",
            "Requirement already satisfied: packaging==24.2 in /usr/local/lib/python3.10/dist-packages (24.2)\n",
            "Requirement already satisfied: pillow==11.0.0 in /usr/local/lib/python3.10/dist-packages (11.0.0)\n",
            "Collecting pip==24.3.1\n",
            "  Downloading pip-24.3.1-py3-none-any.whl.metadata (3.7 kB)\n",
            "Requirement already satisfied: pygame==2.6.1 in /usr/local/lib/python3.10/dist-packages (2.6.1)\n",
            "Collecting pyglet==1.5.21\n",
            "  Downloading pyglet-1.5.21-py3-none-any.whl.metadata (7.6 kB)\n",
            "Requirement already satisfied: pyparsing==3.2.0 in /usr/local/lib/python3.10/dist-packages (3.2.0)\n",
            "Collecting python-dateutil==2.9.0.post0\n",
            "  Downloading python_dateutil-2.9.0.post0-py2.py3-none-any.whl.metadata (8.4 kB)\n",
            "Collecting setuptools==65.5.0\n",
            "  Downloading setuptools-65.5.0-py3-none-any.whl.metadata (6.3 kB)\n",
            "Requirement already satisfied: six==1.17.0 in /usr/local/lib/python3.10/dist-packages (1.17.0)\n",
            "Requirement already satisfied: sympy==1.13.1 in /usr/local/lib/python3.10/dist-packages (1.13.1)\n",
            "Requirement already satisfied: tqdm>=4.48.2 in /usr/local/lib/python3.10/dist-packages (from nes_py==8.2.1) (4.67.1)\n",
            "Downloading colorama-0.4.6-py2.py3-none-any.whl (25 kB)\n",
            "Downloading gym_super_mario_bros-7.4.0-py3-none-any.whl (199 kB)\n",
            "\u001b[2K   \u001b[90m━━━━━━━━━━━━━━━━━━━━━━━━━━━━━━━━━━━━━━━━\u001b[0m \u001b[32m199.1/199.1 kB\u001b[0m \u001b[31m6.6 MB/s\u001b[0m eta \u001b[36m0:00:00\u001b[0m\n",
            "\u001b[?25hDownloading matplotlib-3.10.0-cp310-cp310-manylinux_2_17_x86_64.manylinux2014_x86_64.whl (8.6 MB)\n",
            "\u001b[2K   \u001b[90m━━━━━━━━━━━━━━━━━━━━━━━━━━━━━━━━━━━━━━━━\u001b[0m \u001b[32m8.6/8.6 MB\u001b[0m \u001b[31m69.0 MB/s\u001b[0m eta \u001b[36m0:00:00\u001b[0m\n",
            "\u001b[?25hDownloading pip-24.3.1-py3-none-any.whl (1.8 MB)\n",
            "\u001b[2K   \u001b[90m━━━━━━━━━━━━━━━━━━━━━━━━━━━━━━━━━━━━━━━━\u001b[0m \u001b[32m1.8/1.8 MB\u001b[0m \u001b[31m61.4 MB/s\u001b[0m eta \u001b[36m0:00:00\u001b[0m\n",
            "\u001b[?25hDownloading pyglet-1.5.21-py3-none-any.whl (1.1 MB)\n",
            "\u001b[2K   \u001b[90m━━━━━━━━━━━━━━━━━━━━━━━━━━━━━━━━━━━━━━━━\u001b[0m \u001b[32m1.1/1.1 MB\u001b[0m \u001b[31m42.2 MB/s\u001b[0m eta \u001b[36m0:00:00\u001b[0m\n",
            "\u001b[?25hDownloading python_dateutil-2.9.0.post0-py2.py3-none-any.whl (229 kB)\n",
            "\u001b[2K   \u001b[90m━━━━━━━━━━━━━━━━━━━━━━━━━━━━━━━━━━━━━━━━\u001b[0m \u001b[32m229.9/229.9 kB\u001b[0m \u001b[31m15.2 MB/s\u001b[0m eta \u001b[36m0:00:00\u001b[0m\n",
            "\u001b[?25hDownloading setuptools-65.5.0-py3-none-any.whl (1.2 MB)\n",
            "\u001b[2K   \u001b[90m━━━━━━━━━━━━━━━━━━━━━━━━━━━━━━━━━━━━━━━━\u001b[0m \u001b[32m1.2/1.2 MB\u001b[0m \u001b[31m50.9 MB/s\u001b[0m eta \u001b[36m0:00:00\u001b[0m\n",
            "\u001b[?25hBuilding wheels for collected packages: gym, nes_py\n",
            "  Building wheel for gym (pyproject.toml) ... \u001b[?25l\u001b[?25hdone\n",
            "  Created wheel for gym: filename=gym-0.26.2-py3-none-any.whl size=827623 sha256=fd12b7e50825af7e475e1bf9981d20e18924f1135bf611bb12c136acd9d78df4\n",
            "  Stored in directory: /root/.cache/pip/wheels/b9/22/6d/3e7b32d98451b4cd9d12417052affbeeeea012955d437da1da\n",
            "  Building wheel for nes_py (setup.py) ... \u001b[?25l\u001b[?25hdone\n",
            "  Created wheel for nes_py: filename=nes_py-8.2.1-cp310-cp310-linux_x86_64.whl size=535723 sha256=52db6ea65682dc92905c68368245a1e2971c425abcb620db50da55eec2db38c3\n",
            "  Stored in directory: /root/.cache/pip/wheels/34/a7/d5/9aa14b15df740a53d41f702e4c795731b6c4da7925deb8476c\n",
            "Successfully built gym nes_py\n",
            "Installing collected packages: pyglet, setuptools, python-dateutil, pip, gym, colorama, nes_py, matplotlib, gym-super-mario-bros\n",
            "  Attempting uninstall: setuptools\n",
            "    Found existing installation: setuptools 75.1.0\n",
            "    Uninstalling setuptools-75.1.0:\n",
            "      Successfully uninstalled setuptools-75.1.0\n",
            "  Attempting uninstall: python-dateutil\n",
            "    Found existing installation: python-dateutil 2.8.2\n",
            "    Uninstalling python-dateutil-2.8.2:\n",
            "      Successfully uninstalled python-dateutil-2.8.2\n",
            "  Attempting uninstall: pip\n",
            "    Found existing installation: pip 24.1.2\n",
            "    Uninstalling pip-24.1.2:\n",
            "      Successfully uninstalled pip-24.1.2\n",
            "  Attempting uninstall: gym\n",
            "    Found existing installation: gym 0.25.2\n",
            "    Uninstalling gym-0.25.2:\n",
            "      Successfully uninstalled gym-0.25.2\n",
            "  Attempting uninstall: matplotlib\n",
            "    Found existing installation: matplotlib 3.8.0\n",
            "    Uninstalling matplotlib-3.8.0:\n",
            "      Successfully uninstalled matplotlib-3.8.0\n",
            "\u001b[31mERROR: pip's dependency resolver does not currently take into account all the packages that are installed. This behaviour is the source of the following dependency conflicts.\n",
            "ipython 7.34.0 requires jedi>=0.16, which is not installed.\n",
            "dopamine-rl 4.1.0 requires gym<=0.25.2, but you have gym 0.26.2 which is incompatible.\u001b[0m\u001b[31m\n",
            "\u001b[0mSuccessfully installed colorama-0.4.6 gym-0.26.2 gym-super-mario-bros-7.4.0 matplotlib-3.10.0 nes_py-8.2.1 pip-24.3.1 pyglet-1.5.21 python-dateutil-2.9.0.post0 setuptools-65.5.0\n"
          ]
        },
        {
          "output_type": "display_data",
          "data": {
            "application/vnd.colab-display-data+json": {
              "pip_warning": {
                "packages": [
                  "_distutils_hack",
                  "dateutil",
                  "setuptools"
                ]
              },
              "id": "8bea15e7a6a348cabe80ece098831078"
            }
          },
          "metadata": {}
        }
      ],
      "source": [
        "!pip install \\\n",
        "    cloudpickle==3.1.0 \\\n",
        "    colorama==0.4.6 \\\n",
        "    contourpy==1.3.1 \\\n",
        "    cycler==0.12.1 \\\n",
        "    filelock==3.16.1 \\\n",
        "    fonttools==4.55.3 \\\n",
        "    fsspec==2024.10.0 \\\n",
        "    gym==0.26.2 \\\n",
        "    gym-notices==0.0.8 \\\n",
        "    gym-super-mario-bros==7.4.0 \\\n",
        "    Jinja2==3.1.4 \\\n",
        "    kiwisolver==1.4.7 \\\n",
        "    MarkupSafe==3.0.2 \\\n",
        "    matplotlib==3.10.0 \\\n",
        "    mpmath==1.3.0 \\\n",
        "    nes_py==8.2.1 \\\n",
        "    networkx==3.4.2 \\\n",
        "    numpy==1.26.4 \\\n",
        "    opencv-python==4.10.0.84 \\\n",
        "    packaging==24.2 \\\n",
        "    pillow==11.0.0 \\\n",
        "    pip==24.3.1 \\\n",
        "    pygame==2.6.1 \\\n",
        "    pyglet==1.5.21 \\\n",
        "    pyparsing==3.2.0 \\\n",
        "    python-dateutil==2.9.0.post0 \\\n",
        "    setuptools==65.5.0 \\\n",
        "    six==1.17.0 \\\n",
        "    sympy==1.13.1"
      ]
    },
    {
      "cell_type": "code",
      "execution_count": 6,
      "metadata": {
        "id": "f9vaHz7p2ido"
      },
      "outputs": [],
      "source": [
        "import os\n",
        "# Define the new paths\n",
        "new_save_path = \"/content/drive/MyDrive/super_mario/checkpoints/\"\n",
        "new_log_path = \"/content/drive/MyDrive/super_mario/log/\"\n",
        "\n",
        "# Create the new directories if they don't exist\n",
        "#if folder exists remove them\n",
        "\n",
        "os.makedirs(new_save_path, exist_ok=True)\n",
        "os.makedirs(new_log_path, exist_ok=True)\n",
        "\n",
        "# Open constant.py and modify the SAVE_PATH and LOG_PATH\n",
        "with open(\"utils/constants.py\", \"r\") as f:\n",
        "    lines = f.readlines()\n",
        "\n",
        "with open(\"utils/constants.py\", \"w\") as f:\n",
        "    for line in lines:\n",
        "        if \"SAVE_PATH\" in line:\n",
        "            f.write(f\"SAVE_PATH = '{new_save_path}'\\n\")\n",
        "        elif \"LOG_PATH\" in line:\n",
        "            f.write(f\"LOG_PATH = '{new_log_path}'\\n\")\n",
        "        else:\n",
        "            f.write(line)"
      ]
    },
    {
      "cell_type": "code",
      "execution_count": null,
      "metadata": {
        "colab": {
          "base_uri": "https://localhost:8080/"
        },
        "id": "HEAzY02SxuIZ",
        "outputId": "2376b697-1197-4085-ac7f-97c28f39c8c3"
      },
      "outputs": [
        {
          "output_type": "stream",
          "name": "stdout",
          "text": [
            "0\n",
            "action_dim:  14\n",
            "input_dim:  4\n",
            "Global model created\n",
            "ActorCritic(\n",
            "  (common): Sequential(\n",
            "    (0): Conv2d(4, 32, kernel_size=(3, 3), stride=(2, 2), padding=(1, 1))\n",
            "    (1): ELU(alpha=1.0)\n",
            "    (2): Conv2d(32, 32, kernel_size=(3, 3), stride=(2, 2), padding=(1, 1))\n",
            "    (3): ELU(alpha=1.0)\n",
            "    (4): Conv2d(32, 32, kernel_size=(3, 3), stride=(2, 2), padding=(1, 1))\n",
            "    (5): ELU(alpha=1.0)\n",
            "    (6): Conv2d(32, 32, kernel_size=(3, 3), stride=(2, 2), padding=(1, 1))\n",
            "    (7): ELU(alpha=1.0)\n",
            "  )\n",
            "  (actor): Linear(in_features=512, out_features=14, bias=True)\n",
            "  (critic): Linear(in_features=512, out_features=1, bias=True)\n",
            "  (lstm): LSTMCell(1152, 512)\n",
            ")\n",
            "cpu:  2\n",
            "Training started...\n"
          ]
        }
      ],
      "source": [
        "!python3 train.py"
      ]
    }
  ],
  "metadata": {
    "colab": {
      "provenance": [],
      "include_colab_link": true
    },
    "kernelspec": {
      "display_name": "Python 3",
      "name": "python3"
    },
    "language_info": {
      "name": "python"
    }
  },
  "nbformat": 4,
  "nbformat_minor": 0
}